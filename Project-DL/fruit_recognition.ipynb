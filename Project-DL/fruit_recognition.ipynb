{
 "cells": [
  {
   "cell_type": "code",
   "execution_count": 13,
   "metadata": {},
   "outputs": [],
   "source": [
    "import os\n",
    "import random\n",
    "import shutil\n",
    "from sklearn.model_selection import train_test_split\n",
    "import tensorflow as tf\n",
    "from tensorflow import keras\n",
    "from tensorflow.keras.preprocessing.image import ImageDataGenerator\n",
    "from tensorflow.keras.models import Sequential\n",
    "from tensorflow.keras.layers import Conv2D, MaxPooling2D, Flatten, Dense, Dropout"
   ]
  },
  {
   "cell_type": "code",
   "execution_count": 2,
   "metadata": {},
   "outputs": [],
   "source": [
    "#ścieka do folderu\n",
    "dataset = '/Users/joannawitek/Desktop/DL-project/Fruits'"
   ]
  },
  {
   "cell_type": "code",
   "execution_count": 4,
   "metadata": {},
   "outputs": [],
   "source": [
    "#ścieki do folderów train i test\n",
    "train_folder = '/Users/joannawitek/Desktop/DL-project/Fruits-train'\n",
    "test_folder = '/Users/joannawitek/Desktop/DL-project/Fruits-test'"
   ]
  },
  {
   "cell_type": "code",
   "execution_count": 5,
   "metadata": {},
   "outputs": [],
   "source": [
    "#stworzenie folderów train i test\n",
    "os.makedirs(train_folder, exist_ok=True)\n",
    "os.makedirs(test_folder, exist_ok=True)"
   ]
  },
  {
   "cell_type": "code",
   "execution_count": 6,
   "metadata": {},
   "outputs": [],
   "source": [
    "#funkcja która przesunie pliki do folderów train i test\n",
    "def move_files(file_list, target_folder):\n",
    "    for file_path in file_list:\n",
    "        filename = os.path.basename(file_path)\n",
    "        dst = os.path.join(target_folder, filename)\n",
    "        shutil.copy(file_path, dst)"
   ]
  },
  {
   "cell_type": "code",
   "execution_count": 7,
   "metadata": {},
   "outputs": [],
   "source": [
    "#lista subfolderów (kategorii owoców)\n",
    "subfolders = [subdir for subdir in os.listdir(dataset) if os.path.isdir(os.path.join(dataset, subdir))]"
   ]
  },
  {
   "cell_type": "code",
   "execution_count": 8,
   "metadata": {},
   "outputs": [],
   "source": [
    "#tworzenie subfolderów w folderach train i jest dla kadej kategorii owoców\n",
    "for subdir in subfolders:\n",
    "    os.makedirs(os.path.join(train_folder, subdir), exist_ok=True)\n",
    "    os.makedirs(os.path.join(test_folder, subdir), exist_ok=True)\n",
    "\n",
    "    #lista plików ze zdjęciami dla kadej kategorii owoców\n",
    "    fruit_folder = os.path.join(dataset, subdir)\n",
    "    image_files = [os.path.join(fruit_folder, file) for file in os.listdir(fruit_folder)]\n",
    "\n",
    "    #podział obrazów na zbiory train i test\n",
    "    train_files, test_files = train_test_split(image_files, test_size=0.3, random_state=42)\n",
    "\n",
    "    #przesunicie plików do folderu train\n",
    "    move_files(train_files, os.path.join(train_folder, subdir))\n",
    "\n",
    "    #przesunięcie plików do folderu test\n",
    "    move_files(test_files, os.path.join(test_folder, subdir))"
   ]
  },
  {
   "cell_type": "code",
   "execution_count": 9,
   "metadata": {},
   "outputs": [],
   "source": [
    "#ustawienie rozmiaru obrazu i innych parametrów do augumentacji\n",
    "image_size = (320, 258)\n",
    "batch_size = 32\n",
    "rotation_range = 20\n",
    "zoom_range = 0.2\n",
    "horizontal_flip = True"
   ]
  },
  {
   "cell_type": "code",
   "execution_count": 10,
   "metadata": {},
   "outputs": [],
   "source": [
    "#image data generator\n",
    "train_datagen = ImageDataGenerator(\n",
    "    rescale=1./255,\n",
    "    rotation_range=rotation_range,\n",
    "    zoom_range=zoom_range,\n",
    "    horizontal_flip=horizontal_flip\n",
    ")"
   ]
  },
  {
   "cell_type": "code",
   "execution_count": 11,
   "metadata": {},
   "outputs": [],
   "source": [
    "test_datagen = ImageDataGenerator(rescale=1./255)"
   ]
  },
  {
   "cell_type": "code",
   "execution_count": 12,
   "metadata": {},
   "outputs": [
    {
     "name": "stdout",
     "output_type": "stream",
     "text": [
      "Found 31076 images belonging to 15 classes.\n",
      "Found 13330 images belonging to 15 classes.\n"
     ]
    }
   ],
   "source": [
    "train_generator = train_datagen.flow_from_directory(\n",
    "    train_folder,\n",
    "    target_size=image_size,\n",
    "    batch_size=batch_size,\n",
    "    class_mode='categorical'\n",
    ")\n",
    "\n",
    "test_generator = test_datagen.flow_from_directory(\n",
    "    test_folder,\n",
    "    target_size=image_size,\n",
    "    batch_size=batch_size,\n",
    "    class_mode='categorical'\n",
    ")"
   ]
  },
  {
   "cell_type": "code",
   "execution_count": 14,
   "metadata": {},
   "outputs": [],
   "source": [
    "#stworzenie modelu sekwencyjnego\n",
    "model = Sequential()\n",
    "\n",
    "#dodanie warstwy konwolucyjnej - 32 filtry, kernel 3x3, aktywacja 'relu'\n",
    "model.add(Conv2D(32, (3, 3), activation='relu', input_shape=(320, 258, 3)))\n",
    "\n",
    "#dodanie warstwy max pooling - pool size 2x2 \n",
    "model.add(MaxPooling2D(pool_size=(2, 2)))\n",
    "\n",
    "# dodanie kolejnej warstwy konwolucyjnej - 64 filtry, kernel 3x3, aktywacja 'relu'\n",
    "model.add(Conv2D(64, (3, 3), activation='relu'))\n",
    "\n",
    "#dodanie kolejnej warstwy max pooling - pool size 2x2 \n",
    "model.add(MaxPooling2D(pool_size=(2, 2)))\n",
    "\n",
    "#spłaszczenie outputu z poprzedniej warstwy\n",
    "model.add(Flatten())\n",
    "\n",
    "#dodanie warstwy fully connected - 128 jednostek, aktywacja 'relu'\n",
    "model.add(Dense(128, activation='relu'))\n",
    "\n",
    "#dodanie dropoutu by zapobiec overfitingowi\n",
    "model.add(Dropout(0.5))\n",
    "\n",
    "#dodanie warstwy wyjciowej z liczbą klas i aktywacją 'softmax'\n",
    "model.add(Dense(15, activation='softmax'))\n",
    "\n",
    "#skompilowanie modelu z lossem 'categorical_crossentropy' i optymalizatorem 'adam'\n",
    "model.compile(loss='categorical_crossentropy', optimizer='adam', metrics=['accuracy'])"
   ]
  },
  {
   "cell_type": "code",
   "execution_count": 15,
   "metadata": {},
   "outputs": [
    {
     "name": "stderr",
     "output_type": "stream",
     "text": [
      "/var/folders/zl/32rqypm507n6c2_lb0kw70500000gn/T/ipykernel_15993/3121286001.py:2: UserWarning: `Model.fit_generator` is deprecated and will be removed in a future version. Please use `Model.fit`, which supports generators.\n",
      "  model.fit_generator(\n"
     ]
    },
    {
     "name": "stdout",
     "output_type": "stream",
     "text": [
      "Epoch 1/10\n"
     ]
    },
    {
     "name": "stderr",
     "output_type": "stream",
     "text": [
      "2023-06-08 15:43:55.483968: W tensorflow/tsl/platform/profile_utils/cpu_utils.cc:128] Failed to get CPU frequency: 0 Hz\n"
     ]
    },
    {
     "name": "stdout",
     "output_type": "stream",
     "text": [
      "971/971 [==============================] - 775s 798ms/step - loss: 1.1988 - accuracy: 0.6042 - val_loss: 0.4978 - val_accuracy: 0.8487\n",
      "Epoch 2/10\n",
      "971/971 [==============================] - 843s 868ms/step - loss: 0.6387 - accuracy: 0.7817 - val_loss: 0.2577 - val_accuracy: 0.9165\n",
      "Epoch 3/10\n",
      "971/971 [==============================] - 831s 855ms/step - loss: 0.5148 - accuracy: 0.8269 - val_loss: 0.2527 - val_accuracy: 0.9117\n",
      "Epoch 4/10\n",
      "971/971 [==============================] - 863s 888ms/step - loss: 0.4478 - accuracy: 0.8475 - val_loss: 0.1847 - val_accuracy: 0.9363\n",
      "Epoch 5/10\n",
      "971/971 [==============================] - 1063s 1s/step - loss: 0.4151 - accuracy: 0.8614 - val_loss: 0.1621 - val_accuracy: 0.9453\n",
      "Epoch 6/10\n",
      "971/971 [==============================] - 871s 897ms/step - loss: 0.3557 - accuracy: 0.8819 - val_loss: 0.1580 - val_accuracy: 0.9472\n",
      "Epoch 7/10\n",
      "971/971 [==============================] - 902s 929ms/step - loss: 0.3285 - accuracy: 0.8906 - val_loss: 0.1240 - val_accuracy: 0.9596\n",
      "Epoch 8/10\n",
      "971/971 [==============================] - 899s 925ms/step - loss: 0.3196 - accuracy: 0.8947 - val_loss: 0.1045 - val_accuracy: 0.9657\n",
      "Epoch 9/10\n",
      "971/971 [==============================] - 975s 1s/step - loss: 0.2752 - accuracy: 0.9070 - val_loss: 0.0964 - val_accuracy: 0.9681\n",
      "Epoch 10/10\n",
      "971/971 [==============================] - 945s 973ms/step - loss: 0.2783 - accuracy: 0.9095 - val_loss: 0.0877 - val_accuracy: 0.9702\n"
     ]
    },
    {
     "data": {
      "text/plain": [
       "<keras.callbacks.History at 0x168d03b20>"
      ]
     },
     "execution_count": 15,
     "metadata": {},
     "output_type": "execute_result"
    }
   ],
   "source": [
    "#trenowanie modelu\n",
    "model.fit_generator(\n",
    "    train_generator,\n",
    "    steps_per_epoch=train_generator.samples // batch_size,\n",
    "    epochs=10,\n",
    "    validation_data=test_generator,\n",
    "    validation_steps=test_generator.samples // batch_size\n",
    ")"
   ]
  },
  {
   "cell_type": "code",
   "execution_count": 17,
   "metadata": {},
   "outputs": [
    {
     "name": "stdout",
     "output_type": "stream",
     "text": [
      "416/416 [==============================] - 67s 162ms/step - loss: 0.0877 - accuracy: 0.9702\n",
      "Test loss: 0.08770725131034851\n",
      "Test accuracy: 0.9701772928237915\n"
     ]
    }
   ],
   "source": [
    "#ewaluacja modelu na zbiorze testowym\n",
    "score = model.evaluate(test_generator, steps=test_generator.samples // batch_size)\n",
    "print('Test loss:', score[0])\n",
    "print('Test accuracy:', score[1])"
   ]
  },
  {
   "cell_type": "code",
   "execution_count": 18,
   "metadata": {},
   "outputs": [],
   "source": [
    "#zapisanie modelu\n",
    "model.save('fruit_recognition_model.h5')"
   ]
  }
 ],
 "metadata": {
  "kernelspec": {
   "display_name": "deep",
   "language": "python",
   "name": "python3"
  },
  "language_info": {
   "codemirror_mode": {
    "name": "ipython",
    "version": 3
   },
   "file_extension": ".py",
   "mimetype": "text/x-python",
   "name": "python",
   "nbconvert_exporter": "python",
   "pygments_lexer": "ipython3",
   "version": "3.10.9"
  },
  "orig_nbformat": 4
 },
 "nbformat": 4,
 "nbformat_minor": 2
}
